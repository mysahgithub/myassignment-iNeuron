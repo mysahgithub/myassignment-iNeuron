{
 "cells": [
  {
   "cell_type": "markdown",
   "id": "e0a2acf5-eceb-4653-a347-faee681c151c",
   "metadata": {},
   "source": [
    "Q1. Why do we call Python as a general purpose and high-level programming language?\n",
    "\n",
    "its written human understand language and Python is an interpreted language. This means that every time a program is run, its interpreter runs through the code and translates it into machine-readable byte code"
   ]
  },
  {
   "cell_type": "markdown",
   "id": "8d66e4ad-687e-42f3-a1a1-24880cc0ec14",
   "metadata": {},
   "source": [
    "Q2. Why is Python called a dynamically typed languge?\n",
    "\n",
    "because the type of variable is determined during run time.."
   ]
  },
  {
   "cell_type": "markdown",
   "id": "8a5d82d7-e5b8-48ff-9a3e-6e07cf317095",
   "metadata": {},
   "source": [
    "Q3. List some pros and cons of Python programming language?\n",
    "\n",
    "pros\n",
    "\n",
    "its easy to understand it has minimal code compared to other languages its indentation make look the code easier its a run time interpreter language it has wide range of lib support\n",
    "\n",
    "cons its bit slower compared to the compiler based language."
   ]
  },
  {
   "cell_type": "markdown",
   "id": "e6bc9841-8917-4316-8176-7fdd240d4089",
   "metadata": {},
   "source": [
    "Q4. In what all domains can we use Python?\n",
    "\n",
    "almost all example... mainly data enggineering,machine learning etc..."
   ]
  },
  {
   "cell_type": "markdown",
   "id": "70bf4cb3-8767-4fc5-a84e-497821849850",
   "metadata": {},
   "source": [
    "Q5. What are variable and how can we declare them?\n",
    "\n",
    "its a name given to the memory block to identify when it's called of any kind of operation... declare by a = 10, b=20 here a and b are variables storing the int values in memory"
   ]
  },
  {
   "cell_type": "markdown",
   "id": "ffcfc0de-7bd5-42bc-afd7-277758b2d946",
   "metadata": {},
   "source": [
    "Q6. How can we take an input from the user in Python?\n",
    "\n",
    "using the keyword input()"
   ]
  },
  {
   "cell_type": "markdown",
   "id": "25fbea1b-59cf-46b7-be15-ed8c20b691af",
   "metadata": {},
   "source": [
    "Q7. What is the default datatype of the value that has been taken as an input using input() function?\n",
    "\n",
    "string"
   ]
  },
  {
   "cell_type": "markdown",
   "id": "e85c634e-3401-4282-84de-7455471a2377",
   "metadata": {},
   "source": [
    "Q8. What is type casting?\n",
    "\n",
    "converting one data type to other..like int to float or float to int ...using int(float-value) and float(int value)"
   ]
  },
  {
   "cell_type": "markdown",
   "id": "d0cff64c-5791-4d97-9f1a-2e9843f362ec",
   "metadata": {},
   "source": [
    "Q9. Can we take more than one input from the user using single input() function? If yes, how? If no, why?\n",
    "\n",
    "yes, if we can take this into any conditional statements. no, in other cases."
   ]
  },
  {
   "cell_type": "markdown",
   "id": "2f3e9f7d-9969-4e93-afa9-49925aa366c4",
   "metadata": {},
   "source": [
    "Q10. What are keywords?\n",
    "\n",
    "to understand python language need keywords like value,operators,control or conditional,"
   ]
  },
  {
   "cell_type": "markdown",
   "id": "47e05751-3231-485a-a08e-211b8793fba1",
   "metadata": {},
   "source": [
    "Q11. Can we use keywords as a variable? Support your answer with reason.\n",
    "\n",
    "no, we can't use this keyword as variable as these are syntax specfic used for coding"
   ]
  },
  {
   "cell_type": "markdown",
   "id": "285da994-7a65-4368-913c-0f3051832f39",
   "metadata": {},
   "source": [
    "Q12. What is indentation? What's the use of indentaion in Python?\n",
    "\n",
    "it define the start and end of particaular statements and its a tab space."
   ]
  },
  {
   "cell_type": "markdown",
   "id": "d4a309a3-924d-4d00-8a55-3f2de633bd4f",
   "metadata": {},
   "source": [
    "Q13. How can we throw some output in Python?\n",
    "\n",
    "using print() statement."
   ]
  },
  {
   "cell_type": "markdown",
   "id": "c2a9895f-074b-491c-88ed-37d70d501486",
   "metadata": {},
   "source": [
    "Q14. What are operators in Python?\n",
    "\n",
    "these are used to perform the mathematical work and to check the logical operations."
   ]
  },
  {
   "cell_type": "markdown",
   "id": "997b4fdf-d962-414e-bb6f-2ae83175945d",
   "metadata": {},
   "source": [
    "Q15. What is difference between / and // operators?\n",
    "\n",
    "/ division operator and // is or operator"
   ]
  },
  {
   "cell_type": "markdown",
   "id": "d2f5c0f8-20da-41b0-ac32-ad56b35786b2",
   "metadata": {},
   "source": [
    "Q16. Write a code that gives following as an output.\n",
    "\n",
    "iNeuroniNeuroniNeuroniNeuron"
   ]
  },
  {
   "cell_type": "code",
   "execution_count": 2,
   "id": "7d3e099a-a33c-4fd1-b5b3-1da34b3634fd",
   "metadata": {},
   "outputs": [
    {
     "name": "stdout",
     "output_type": "stream",
     "text": [
      "iNeuroniNeuroniNeuroniNeuron\n"
     ]
    }
   ],
   "source": [
    "#sol:\n",
    "print('iNeuroniNeuroniNeuroniNeuron')\n",
    "\n",
    "#-------or------- a = 'iNeuroniNeuroniNeuroniNeuron'\n",
    "\n",
    "#print(a);"
   ]
  },
  {
   "cell_type": "markdown",
   "id": "b1bc53e4-a3f0-4d0c-9393-b4b2c1a1a517",
   "metadata": {},
   "source": [
    "Q17. Write a code to take a number as an input from the user and check if the number is odd or even."
   ]
  },
  {
   "cell_type": "code",
   "execution_count": 8,
   "id": "769c05ae-5330-4090-8f41-b10b5e15cf44",
   "metadata": {},
   "outputs": [
    {
     "name": "stdin",
     "output_type": "stream",
     "text": [
      "please enter number : 5\n"
     ]
    },
    {
     "name": "stdout",
     "output_type": "stream",
     "text": [
      "given number is odd\n"
     ]
    }
   ],
   "source": [
    "num =int(input('please enter number :'))\n",
    "\n",
    "if num%2==0: \n",
    "    print('given number is even') \n",
    "else: print('given number is odd')"
   ]
  },
  {
   "cell_type": "markdown",
   "id": "cb3f1a00-d0a0-4941-8739-b9f5e80b802b",
   "metadata": {},
   "source": [
    "Q18. What are boolean operator?\n",
    "\n",
    "true false"
   ]
  },
  {
   "cell_type": "markdown",
   "id": "6f93b0ed-e171-446f-bda1-3a24db8faba9",
   "metadata": {},
   "source": [
    "Q19. What will the output of the following?\n",
    "\n",
    "1 or 0\n",
    "\n",
    "0 and 0\n",
    "\n",
    "True and False and True\n",
    "\n",
    "1 or 0 or 0"
   ]
  },
  {
   "cell_type": "code",
   "execution_count": null,
   "id": "d789a59f-a11c-446f-9809-2b7a67c56869",
   "metadata": {},
   "outputs": [],
   "source": [
    "#sol\n",
    "1 \n",
    "0\n",
    "False \n",
    "1"
   ]
  },
  {
   "cell_type": "markdown",
   "id": "88a0bc08-bce7-4302-b97a-bf3230d48cd8",
   "metadata": {},
   "source": [
    "Q20. What are conditional statements in Python?\n",
    "\n",
    "if,elif,else,while,for,or,and"
   ]
  },
  {
   "cell_type": "markdown",
   "id": "344ddcf3-817c-446d-a145-a19215ab4235",
   "metadata": {},
   "source": [
    "Q21. What is use of 'if', 'elif' and 'else' keywords?\n",
    "\n",
    "these are conditional statement used to get at least one output"
   ]
  },
  {
   "cell_type": "markdown",
   "id": "694a56ed-94fa-4c84-98c9-89cc21d0250c",
   "metadata": {},
   "source": [
    "Q22. Write a code to take the age of person as an input and if age >= 18 display \"I can vote\". If age is < 18 display \"I can't vote\"."
   ]
  },
  {
   "cell_type": "code",
   "execution_count": 14,
   "id": "1d32f3c2-4795-4621-b3c3-f984cd16cf99",
   "metadata": {},
   "outputs": [
    {
     "name": "stdin",
     "output_type": "stream",
     "text": [
      "please enter your age : 34\n"
     ]
    },
    {
     "name": "stdout",
     "output_type": "stream",
     "text": [
      "I can vote\n"
     ]
    }
   ],
   "source": [
    "age =int(input('please enter your age :'))\n",
    "\n",
    "if age>=18: \n",
    "    print('I can vote') \n",
    "else: print(\"I can't vote\")"
   ]
  },
  {
   "cell_type": "markdown",
   "id": "eb9e685c-ebbd-4523-a992-94e4fe45afd7",
   "metadata": {},
   "source": [
    "Q23. Write a code that displays the sum of all the even numbers from the given list.\n",
    "\n",
    "numbers = [12, 75, 150, 180, 145, 525, 50]"
   ]
  },
  {
   "cell_type": "code",
   "execution_count": 16,
   "id": "c025ca18-a1f6-4e72-9ed4-97b694753524",
   "metadata": {},
   "outputs": [
    {
     "name": "stdout",
     "output_type": "stream",
     "text": [
      "12\n",
      "150\n",
      "180\n",
      "50\n"
     ]
    }
   ],
   "source": [
    "numbers = [12, 75, 150, 180, 145, 525, 50]\n",
    "\n",
    "for i in numbers[0 : ]: \n",
    "    if i%2==0: print(i)"
   ]
  },
  {
   "cell_type": "markdown",
   "id": "446f6685-ad18-400f-9a3a-292f01d71cc3",
   "metadata": {},
   "source": [
    "Q24. Write a code to take 3 numbers as an input from the user and display the greatest no as output."
   ]
  },
  {
   "cell_type": "code",
   "execution_count": 18,
   "id": "58733cc1-a63d-446a-865c-45119d00ed7c",
   "metadata": {},
   "outputs": [
    {
     "name": "stdin",
     "output_type": "stream",
     "text": [
      "please enter the 1st num : 3\n",
      "please enter the 2nd num : 4\n",
      "please enter the 3rd num : 5\n"
     ]
    },
    {
     "name": "stdout",
     "output_type": "stream",
     "text": [
      "the greatest number is : 5\n"
     ]
    }
   ],
   "source": [
    "num1 =int(input(\"please enter the 1st num :\" )) \n",
    "num2 =int(input(\"please enter the 2nd num :\" )) \n",
    "num3 =int(input(\"please enter the 3rd num :\" ))\n",
    "\n",
    "if num1>num2 and num1>num3: \n",
    "    print(\"the greatest number is :\", num1) \n",
    "elif num2>num1 and num2>num3: \n",
    "    print(\"the greatest number is :\", num2) \n",
    "else: print(\"the greatest number is :\", num3)"
   ]
  },
  {
   "cell_type": "markdown",
   "id": "511f00a6-48f7-4d77-be19-b80baa9da5e7",
   "metadata": {},
   "source": [
    "Q25. Write a program to display only those numbers from a list that satisfy the following conditions\n",
    "\n",
    "The number must be divisible by five\n",
    "\n",
    "If the number is greater than 150, then skip it and move to the next number\n",
    "\n",
    "If the number is greater than 500, then stop the loop\n",
    "\n",
    "numbers = [12, 75, 150, 180, 145, 525, 50]"
   ]
  },
  {
   "cell_type": "code",
   "execution_count": 66,
   "id": "38cc7b89-3623-49e9-b7eb-752977f5c118",
   "metadata": {},
   "outputs": [
    {
     "name": "stdout",
     "output_type": "stream",
     "text": [
      "[75, 150, 145]\n"
     ]
    }
   ],
   "source": [
    "num=[12, 75, 150, 180, 145, 525, 50]\n",
    "num1=[]\n",
    "for i in num:\n",
    "    if i >150:\n",
    "        if i>500:\n",
    "            break\n",
    "        continue\n",
    "    if i%5==0:\n",
    "        num1.append(i)\n",
    "print(num1)\n",
    "    "
   ]
  },
  {
   "cell_type": "raw",
   "id": "516ba6d6-8e3e-44b9-a0c9-2e991afc1e27",
   "metadata": {},
   "source": [
    "Q26. What is a string? How can we declare string in Python?"
   ]
  },
  {
   "cell_type": "markdown",
   "id": "623ed2b0-bac9-413a-a680-86df0a59eea9",
   "metadata": {},
   "source": [
    "String is a colletcion of alphabets,words or characters these are the immutable..."
   ]
  },
  {
   "cell_type": "code",
   "execution_count": 67,
   "id": "de2990ac-f3f7-4920-a42b-604d524e52aa",
   "metadata": {},
   "outputs": [
    {
     "name": "stdout",
     "output_type": "stream",
     "text": [
      "Hi iNeuron\n",
      "Hi iNeuron\n"
     ]
    }
   ],
   "source": [
    "#example to declare string\n",
    "print('Hi iNeuron')\n",
    "#using variable\n",
    "a='Hi iNeuron'\n",
    "print(a)"
   ]
  },
  {
   "cell_type": "markdown",
   "id": "4555b446-e3fb-4a15-9a5b-6cdb1e47908a",
   "metadata": {},
   "source": [
    "Q27. How can we access the string using its index?"
   ]
  },
  {
   "cell_type": "code",
   "execution_count": 6,
   "id": "1655a0d7-511c-4624-a053-450efcb6d394",
   "metadata": {},
   "outputs": [
    {
     "name": "stdout",
     "output_type": "stream",
     "text": [
      "efgh\n"
     ]
    }
   ],
   "source": [
    "#by using list[]\n",
    "list=['abcd','efgh',1234]\n",
    "print(list[1])"
   ]
  },
  {
   "cell_type": "markdown",
   "id": "0f271cfb-c576-41fa-b921-03cee0eb3eb2",
   "metadata": {},
   "source": [
    "Q28. Write a code to get the desired output of the following\n",
    "```\n",
    "string = \"Big Data iNeuron\"\n",
    "desired_output = \"iNeuron\"\n",
    "```"
   ]
  },
  {
   "cell_type": "code",
   "execution_count": 12,
   "id": "0c674a7f-4e1e-4118-a649-179d6563f6ca",
   "metadata": {},
   "outputs": [
    {
     "name": "stdout",
     "output_type": "stream",
     "text": [
      "iNeuron\n"
     ]
    }
   ],
   "source": [
    "string = \"Big Data iNeuron\"\n",
    "out=string.split()\n",
    "desired_output=out[2]\n",
    "print(desired_output)"
   ]
  },
  {
   "cell_type": "markdown",
   "id": "4776b1d7-7ad2-4d9a-82f4-58471c30b94e",
   "metadata": {},
   "source": [
    "Q29. Write a code to get the desired output of the following\n",
    "```\n",
    "string = \"Big Data iNeuron\"\n",
    "desired_output = \"norueNi\"\n",
    "```"
   ]
  },
  {
   "cell_type": "code",
   "execution_count": 27,
   "id": "799bda89-edf3-4257-bd72-5a7b758cea45",
   "metadata": {},
   "outputs": [
    {
     "name": "stdout",
     "output_type": "stream",
     "text": [
      "norueNi\n"
     ]
    }
   ],
   "source": [
    "string = \"Big Data iNeuron\"\n",
    "out=string.split()\n",
    "desired_output=out[2][:: -1]\n",
    "print(desired_output)"
   ]
  },
  {
   "cell_type": "raw",
   "id": "996fffeb-f203-4cf0-8ab8-0ca5341e98a7",
   "metadata": {},
   "source": [
    "Q30. Resverse the string given in the above question."
   ]
  },
  {
   "cell_type": "code",
   "execution_count": 28,
   "id": "40e8a316-6acf-4fc4-ac5e-6a3797b3989e",
   "metadata": {},
   "outputs": [
    {
     "name": "stdout",
     "output_type": "stream",
     "text": [
      "norueNi ataD giB\n"
     ]
    }
   ],
   "source": [
    "string = \"Big Data iNeuron\"[::-1]\n",
    "print(string)"
   ]
  },
  {
   "cell_type": "markdown",
   "id": "9fe58595-5bcd-4f39-b1f6-59bf761d19eb",
   "metadata": {},
   "source": [
    "Q31. How can you delete entire string at once?\n"
   ]
  },
  {
   "cell_type": "code",
   "execution_count": 14,
   "id": "34096a14-0aeb-493e-aff0-115a1cef3311",
   "metadata": {},
   "outputs": [
    {
     "name": "stdout",
     "output_type": "stream",
     "text": [
      "hi hello how are you\n"
     ]
    }
   ],
   "source": [
    "string='hi hello how are you'\n",
    "print(string)\n",
    "del string ## deleting sting\n",
    "#print(string)## testing for deleted string"
   ]
  },
  {
   "cell_type": "markdown",
   "id": "0c280122-9b26-43d0-9d69-d83eaaf38bb0",
   "metadata": {},
   "source": [
    "Q32. What is escape sequence?"
   ]
  },
  {
   "cell_type": "code",
   "execution_count": 12,
   "id": "9561a8b9-cdaf-49ba-8754-f2b3ffc2dcba",
   "metadata": {},
   "outputs": [
    {
     "name": "stdout",
     "output_type": "stream",
     "text": [
      "Who's this?\n"
     ]
    }
   ],
   "source": [
    "#An escape sequence is a sequence of characters that, when used inside a character or string, does not represent itself but is converted into another character or series of characters\n",
    "\n",
    "#example\n",
    "    #print('Who's this?')\n",
    "\n",
    "print('Who\\'s this?')\n",
    "      "
   ]
  },
  {
   "cell_type": "markdown",
   "id": "9aea8139-efc9-4db9-84d4-50382f4da913",
   "metadata": {},
   "source": [
    "Q33. How can you print the below string?\n",
    "\n",
    "'iNeuron's Big Data Course'"
   ]
  },
  {
   "cell_type": "code",
   "execution_count": 9,
   "id": "1d6c9d13-9b9a-4638-8bac-8d541b898f8e",
   "metadata": {},
   "outputs": [
    {
     "name": "stdout",
     "output_type": "stream",
     "text": [
      "iNeuron's Big Data Course\n"
     ]
    }
   ],
   "source": [
    "#Solution\n",
    "\n",
    "string=\"iNeuron's Big Data Course\"\n",
    "\n",
    "print(\"iNeuron's Big Data Course\")"
   ]
  },
  {
   "cell_type": "markdown",
   "id": "72e5c0ef-0b8c-49bc-a574-3c89cb7e7a59",
   "metadata": {},
   "source": [
    "Q34. What is a list in Python?"
   ]
  },
  {
   "cell_type": "markdown",
   "id": "99d54b82-78c4-4de5-910c-25077f4b50c4",
   "metadata": {},
   "source": [
    "Ans: List is a collection of numbers or string characters which can be accessed by the index positions these are mutable in nature."
   ]
  },
  {
   "cell_type": "markdown",
   "id": "8877f6cb-caf1-4cf0-a562-37bcc2ec0e3f",
   "metadata": {},
   "source": [
    "Q35. How can you create a list in Python?"
   ]
  },
  {
   "cell_type": "code",
   "execution_count": 5,
   "id": "10d71d56-0eca-4c23-8ee0-fcbccf46567d",
   "metadata": {},
   "outputs": [
    {
     "name": "stdout",
     "output_type": "stream",
     "text": [
      "<class 'list'>\n"
     ]
    }
   ],
   "source": [
    "#solution\n",
    "#create list suing the closed square brakets \n",
    "\n",
    "list=[1,\"test\"]\n",
    "\n",
    "print(type(list))\n",
    "\n",
    "\n"
   ]
  },
  {
   "cell_type": "markdown",
   "id": "bdfb93de-4935-401c-a7a4-10a5c0692582",
   "metadata": {},
   "source": [
    "Q36. How can we access the elements in a list?"
   ]
  },
  {
   "cell_type": "code",
   "execution_count": 9,
   "id": "4f6757a6-c19d-4e00-9452-b7efb29c3f20",
   "metadata": {},
   "outputs": [
    {
     "name": "stdout",
     "output_type": "stream",
     "text": [
      "keep_going\n"
     ]
    }
   ],
   "source": [
    "#Sol\n",
    "#we can access elements in list using its index positions\n",
    "\n",
    "#example\n",
    "\n",
    "list=[1,\"test1\",\"keep_going\"]\n",
    "\n",
    "print(list[2]) ##we can input the index value to get the stored value in index\n",
    "\n"
   ]
  },
  {
   "cell_type": "markdown",
   "id": "5bed9fd3-8fa4-4478-b15d-976a96ff62ce",
   "metadata": {},
   "source": [
    "Q37. Write a code to access the word \"iNeuron\" from the given list.\n",
    "\n",
    "lst = [1,2,3,\"Hi\",[45,54, \"iNeuron\"], \"Big Data\"]"
   ]
  },
  {
   "cell_type": "code",
   "execution_count": 14,
   "id": "e5e8caf0-521a-46e7-913c-147a6fa44073",
   "metadata": {},
   "outputs": [
    {
     "name": "stdout",
     "output_type": "stream",
     "text": [
      "iNeuron\n"
     ]
    }
   ],
   "source": [
    "#sol\n",
    "\n",
    "list=[1,2,3,\"Hi\",[45,54, \"iNeuron\"], \"Big Data\"]\n",
    "\n",
    "print(list[4][2]) #print(list[4][-1])"
   ]
  },
  {
   "cell_type": "markdown",
   "id": "6e3a27a9-a23c-42ad-a999-5f2de6dd100a",
   "metadata": {},
   "source": [
    "Q38. Take a list as an input from the user and find the length of the list."
   ]
  },
  {
   "cell_type": "code",
   "execution_count": 13,
   "id": "b1401b75-94ae-46d0-a467-3fb475112a13",
   "metadata": {},
   "outputs": [
    {
     "name": "stdout",
     "output_type": "stream",
     "text": [
      "4\n"
     ]
    }
   ],
   "source": [
    "#sol\n",
    "\n",
    "# def user_input():\n",
    "list=[1,4,3.4,\"test\"]\n",
    "\n",
    "print(len(list))\n"
   ]
  },
  {
   "cell_type": "markdown",
   "id": "6786d23f-c8f5-433e-a1be-e3c393f7678f",
   "metadata": {},
   "source": [
    "Q39. Add the word \"Big\" in the 3rd index of the given list.\n",
    "\n",
    "lst = [\"Welcome\", \"to\", \"Data\", \"course\"]"
   ]
  },
  {
   "cell_type": "code",
   "execution_count": 7,
   "id": "b7dea674-9952-4c76-80a2-e358fce6ca05",
   "metadata": {},
   "outputs": [
    {
     "name": "stdout",
     "output_type": "stream",
     "text": [
      "['Welcome', 'to', 'Data', 'Big', 'course']\n"
     ]
    }
   ],
   "source": [
    "lst = [\"Welcome\", \"to\", \"Data\", \"course\"]\n",
    "\n",
    "add=lst.insert(3, \"Big\")\n",
    "\n",
    "print(lst)"
   ]
  },
  {
   "cell_type": "markdown",
   "id": "9029ea66-ca57-433c-8e76-63957e0dc7a5",
   "metadata": {},
   "source": [
    "Q40. What is a tuple? How is it different from list?"
   ]
  },
  {
   "cell_type": "markdown",
   "id": "5d69a5ec-341d-425c-a4e1-2cce6482fec6",
   "metadata": {},
   "source": [
    "Ans. tuple is denoted by tuple().\n",
    "tuple immutable where as list[] is mutable."
   ]
  },
  {
   "cell_type": "markdown",
   "id": "31a3a659-8f84-4962-ac5e-4e6c54b4e958",
   "metadata": {},
   "source": [
    "Q41. How can you create a tuple in Python?"
   ]
  },
  {
   "cell_type": "code",
   "execution_count": 10,
   "id": "22725fad-ede3-487d-851f-163c755fbcd7",
   "metadata": {},
   "outputs": [
    {
     "name": "stdout",
     "output_type": "stream",
     "text": [
      "<class 'tuple'>\n",
      "5\n"
     ]
    }
   ],
   "source": [
    "tuple=(1,\"test1\",5,\"happy\")\n",
    "\n",
    "print(type(tuple))\n",
    "print(tuple[2])\n"
   ]
  },
  {
   "cell_type": "markdown",
   "id": "4487b15a-8e6e-4608-a569-fc6ea4e689fc",
   "metadata": {},
   "source": [
    "Q42. Create a tuple and try to add your name in the tuple. Are you able to do it? Support your answer with reason."
   ]
  },
  {
   "cell_type": "markdown",
   "id": "586c1d74-ec9a-4897-b834-63f68aed7e2f",
   "metadata": {},
   "source": [
    "# tuple=(1,\"test1\",5,\"happy\")\n",
    "\n",
    "# add=tuple.insert('hafeez')\n",
    "\n",
    "# print(tuple)\n",
    "\n",
    "Reason : since tuple is immuitable we can't add/insert elements"
   ]
  },
  {
   "cell_type": "markdown",
   "id": "adabad9e-3ee8-4a72-84a7-ef2dacb18298",
   "metadata": {},
   "source": [
    "Q43. Can two tuple be appended. If yes, write a code for it. If not, why?"
   ]
  },
  {
   "cell_type": "markdown",
   "id": "4d2ef887-ec57-4ba5-9e3a-24da45dc6c07",
   "metadata": {},
   "source": [
    "# tuple1=(1,\"test1\",5,\"happy\")\n",
    "# tuple2=(1,\"test2\",7,\"sad\")\n",
    "\n",
    "# tuple=tuple1.append(tuple2)\n",
    "\n",
    "# print(tuple1)\n",
    "\n",
    "we can't append tuple because of same immutable property."
   ]
  },
  {
   "cell_type": "code",
   "execution_count": null,
   "id": "cedb99ae-7136-4b60-800b-d37306235d12",
   "metadata": {},
   "outputs": [],
   "source": [
    "Q44. Take a tuple as an input and print the count of elements in it."
   ]
  },
  {
   "cell_type": "code",
   "execution_count": 10,
   "id": "de78644f-fa1c-499f-8574-2d1fda19014a",
   "metadata": {},
   "outputs": [
    {
     "name": "stdin",
     "output_type": "stream",
     "text": [
      "Enter space-separated words:  sdfg retg ert \n"
     ]
    },
    {
     "name": "stdout",
     "output_type": "stream",
     "text": [
      "('sdfg', 'retg', 'ert')\n"
     ]
    },
    {
     "name": "stdin",
     "output_type": "stream",
     "text": [
      "Enter space-separated integers:  453 4634 3453\n"
     ]
    },
    {
     "name": "stdout",
     "output_type": "stream",
     "text": [
      "(453, 4634, 3453)\n",
      "Count of elements in tuple are : 6\n"
     ]
    }
   ],
   "source": [
    "tuple1 = tuple(input('Enter space-separated words: ').split())\n",
    "\n",
    "print(tuple1)\n",
    "\n",
    "user_input = input('Enter space-separated integers: ')\n",
    "\n",
    "tuple2 = tuple(int(item) for item in user_input.split())\n",
    "\n",
    "print(tuple2)\n",
    "\n",
    "total_count=(tuple1+tuple2)\n",
    "\n",
    "print(\"Count of elements in tuple are :\",len(total_count))\n",
    "\n"
   ]
  },
  {
   "cell_type": "markdown",
   "id": "8ed40139-522c-4475-9a6c-93ca46592404",
   "metadata": {},
   "source": [
    "Q45. What are sets in Python?"
   ]
  },
  {
   "cell_type": "markdown",
   "id": "2af44fbb-b8fe-4772-be9b-b5a00380b1c3",
   "metadata": {},
   "source": [
    "Ans: Sets are used to store multiple items in a single variable.\n",
    "\n",
    "Set has one of 4 built-in data types in Python used to store collections of data, the other 3 are List, Tuple, and Dictionary, all with different qualities and usage.\n",
    "\n",
    "A set is a collection which is unordered, unchangeable*, and unindexed."
   ]
  },
  {
   "cell_type": "markdown",
   "id": "89ee077d-5e4a-4816-8407-45f573afc4d7",
   "metadata": {},
   "source": [
    "Q46. How can you create a set?"
   ]
  },
  {
   "cell_type": "code",
   "execution_count": 15,
   "id": "34f8e573-862a-4325-b01f-2764802b4a28",
   "metadata": {},
   "outputs": [
    {
     "name": "stdout",
     "output_type": "stream",
     "text": [
      "{'hello', 1234, 'World', 'hi'}\n",
      "<class 'set'>\n",
      "4\n"
     ]
    }
   ],
   "source": [
    "##set{}\n",
    "\n",
    "new_set={\"hi\",\"hello\",\"World\",1234}\n",
    "\n",
    "print(new_set)\n",
    "print(type(new_set))\n",
    "print(len(new_set))"
   ]
  },
  {
   "cell_type": "markdown",
   "id": "90fcf66c-690a-4b93-b61d-64bb76a91f7a",
   "metadata": {},
   "source": [
    "Q47. Create a set and add \"iNeuron\" in your set."
   ]
  },
  {
   "cell_type": "code",
   "execution_count": 4,
   "id": "2f6b0896-5cef-4e1d-bc23-58aebaf19b75",
   "metadata": {},
   "outputs": [
    {
     "name": "stdin",
     "output_type": "stream",
     "text": [
      "enter value:  sdrgt wreg w\n"
     ]
    },
    {
     "name": "stdout",
     "output_type": "stream",
     "text": [
      "{'w', 'wreg', 'sdrgt'}\n"
     ]
    }
   ],
   "source": [
    "#creating empty set\n",
    "empty_set=set()\n",
    "user_input=input(\"enter value: \").split() #iNeuron\n",
    "#print(user_input)\n",
    "empty_set.update(user_input)\n",
    "print(empty_set)"
   ]
  },
  {
   "cell_type": "markdown",
   "id": "8df0b9ae-e9cc-43fa-890b-cd7c0133ce9c",
   "metadata": {},
   "source": [
    "Q48. Try to add multiple values using add() function."
   ]
  },
  {
   "cell_type": "code",
   "execution_count": 14,
   "id": "7478d231-9f63-47a0-b685-2e5111fecdc8",
   "metadata": {},
   "outputs": [
    {
     "name": "stdout",
     "output_type": "stream",
     "text": [
      "{1, 3, 23, 5, 7, 9}\n"
     ]
    }
   ],
   "source": [
    "#adding values\n",
    "word1={1,3,5,7,9}\n",
    "#word1.append(word2)\n",
    "word1.add(23)#we can't add multiple values using add()\n",
    "print(word1)\n"
   ]
  },
  {
   "cell_type": "markdown",
   "id": "7cabee35-5f67-4658-afcd-70e6847e7855",
   "metadata": {},
   "source": [
    "Q49.How is update() different from add()?\n",
    "\n",
    "We use add() method to add single value to a set. We use update() method to add sequence values to a set. Here Sequences are any iterables including list , tuple , string , dict etc."
   ]
  },
  {
   "cell_type": "markdown",
   "id": "f1f1c0c6-1332-4523-929f-282d1fcdf6b0",
   "metadata": {},
   "source": [
    "Q50. What is clear() in sets?\n",
    "\n",
    "The clear() method removes all elements in a set."
   ]
  },
  {
   "cell_type": "markdown",
   "id": "b80c279e-9306-4fa0-aec3-b8cda5b857d6",
   "metadata": {},
   "source": [
    "Q51. What is frozen set?\n",
    "\n",
    "The frozenset() function returns an immutable frozenset object initialized with elements from the given iterable."
   ]
  },
  {
   "cell_type": "markdown",
   "id": "ca72e8b7-ad0f-49d5-a1ca-791e3b6d7537",
   "metadata": {},
   "source": [
    "Q52. How is frozen set different from set?\n",
    "\n",
    "Frozen set is just an immutable version of a Python set object. While elements of a set can be modified at any time, elements of the frozen set remain the same after creation."
   ]
  },
  {
   "cell_type": "markdown",
   "id": "83b7a8d7-6ab5-4259-8bd1-a5f4905eb7e2",
   "metadata": {},
   "source": [
    "Q53. What is union() in sets? Explain via code.\n",
    "\n",
    "union() method returns a new set with distinct elements from all the sets."
   ]
  },
  {
   "cell_type": "code",
   "execution_count": 16,
   "id": "3dafe9c9-21c1-4103-a733-62c584577741",
   "metadata": {},
   "outputs": [
    {
     "name": "stdout",
     "output_type": "stream",
     "text": [
      "A U B =  {1, 2, 3, 5}\n"
     ]
    }
   ],
   "source": [
    "A = {2, 3, 5}\n",
    "B = {1, 3, 5}\n",
    "\n",
    "# union between A and B\n",
    "print('A U B = ', A.union(B))\n"
   ]
  },
  {
   "cell_type": "markdown",
   "id": "545787a0-4952-4daf-8160-0e3f692fb294",
   "metadata": {},
   "source": [
    "Q54. What is intersection() in sets? Explain via code.\n",
    "\n",
    "intersection() method returns a new set with elements that are common to all sets."
   ]
  },
  {
   "cell_type": "code",
   "execution_count": 17,
   "id": "731ee6d0-1767-4d7b-8e2f-0b3a26c3dfc7",
   "metadata": {},
   "outputs": [
    {
     "name": "stdout",
     "output_type": "stream",
     "text": [
      "A intersection B =  {3, 5}\n"
     ]
    }
   ],
   "source": [
    "A = {2, 3, 5}\n",
    "B = {1, 3, 5}\n",
    "\n",
    "print('A intersection B = ', A.intersection(B))\n"
   ]
  },
  {
   "cell_type": "markdown",
   "id": "8f469660-a88d-4cdf-996a-d43e5aab1ab7",
   "metadata": {},
   "source": [
    "Q55. What is dictionary in Python?\n",
    "\n",
    "Dictionaries are Python's implementation of a data structure that is more generally known as an associative array"
   ]
  },
  {
   "cell_type": "raw",
   "id": "ac0f197a-a876-474f-a737-c0e7cb4aae6d",
   "metadata": {},
   "source": [
    "Q56. How is dictionary different from all other data structures.\n",
    "\n",
    "1\tStores just a set of objects\tRepresents the relationship between pair of objects\n",
    "2\t\n",
    "Lookup time is more in the  case of array O(N) \n",
    "\n",
    "where N is the size of the array\n",
    "\n",
    "Lookup time is less compared to an array.\n",
    "\n",
    "Generally, it is O(1) \n",
    "\n",
    "3\tElements are stored at contagious memory locations.\tElements may or may not be stored at a contagious memory location.\n",
    "4\tItems are unordered, changeable, and do allow duplicates\tItems are ordered, changeable, and do not allow duplicates\n",
    "5\tItems are not represented as key: value pair\tItems are represented as key: value pair\n",
    "6\tThe values in the array are of the same data type\tThe values in dictionary items can be of any data type\n",
    "7\tValues can be accessed randomly without the need for any key\tTo access a value the key is required "
   ]
  },
  {
   "cell_type": "markdown",
   "id": "45db3563-be27-4990-99e5-7fa1c836937e",
   "metadata": {},
   "source": [
    "Q57. How can we delare a dictionary in Python?\n",
    "\n",
    "{}\n"
   ]
  },
  {
   "cell_type": "code",
   "execution_count": 2,
   "id": "6e6aac6c-1717-4a0b-b256-907ddb68696c",
   "metadata": {},
   "outputs": [
    {
     "data": {
      "text/plain": [
       "dict"
      ]
     },
     "execution_count": 2,
     "metadata": {},
     "output_type": "execute_result"
    }
   ],
   "source": [
    "d={}\n",
    "type(d)"
   ]
  },
  {
   "cell_type": "markdown",
   "id": "c22b136a-17de-4fd2-a189-171baf475bfb",
   "metadata": {},
   "source": [
    "Q58. What will the output of the following?\n",
    "\n",
    "var = {}\n",
    "print(type(var))"
   ]
  },
  {
   "cell_type": "code",
   "execution_count": 3,
   "id": "654983e5-d1ef-4173-aa71-b1176df3c95e",
   "metadata": {},
   "outputs": [
    {
     "name": "stdout",
     "output_type": "stream",
     "text": [
      "<class 'dict'>\n"
     ]
    }
   ],
   "source": [
    "var = {}\n",
    "print(type(var))\n",
    "\n",
    "#output <class 'dict'>"
   ]
  },
  {
   "cell_type": "markdown",
   "id": "ce6f1e15-0d0e-4716-9683-fff6fbc16490",
   "metadata": {},
   "source": [
    "Q59. How can we add an element in a dictionary?\n",
    "\n",
    "using->> update()"
   ]
  },
  {
   "cell_type": "code",
   "execution_count": 13,
   "id": "f9db6c38-268d-4d8d-ab8d-513ad5b86fd7",
   "metadata": {},
   "outputs": [
    {
     "name": "stdout",
     "output_type": "stream",
     "text": [
      "{'test': 2, 'test1': 1, 'test2': 3, 'test3': 4, 'test5': 5, 'sample': 7}\n"
     ]
    }
   ],
   "source": [
    "s={\"test\":2,\"test1\":1,\"test2\":3}\n",
    "s.update({\"test3\":4})\n",
    "s.update([(\"test5\",5),(\"sample\",7)])\n",
    "print(s)"
   ]
  },
  {
   "cell_type": "markdown",
   "id": "bd5c3c35-a5c5-4bf9-b511-1bbd60549568",
   "metadata": {},
   "source": [
    "Q60. Create a dictionary and access all the values in that dictionary."
   ]
  },
  {
   "cell_type": "code",
   "execution_count": 17,
   "id": "60115881-1cab-44b6-a917-164bd6f42a98",
   "metadata": {},
   "outputs": [
    {
     "name": "stdout",
     "output_type": "stream",
     "text": [
      "<class 'dict'>\n",
      "{'test': 2, 'test1': 1, 'test2': 3}\n"
     ]
    }
   ],
   "source": [
    "s={\"test\":2,\"test1\":1,\"test2\":3}\n",
    "print(type(s))\n",
    "print(s)"
   ]
  },
  {
   "cell_type": "markdown",
   "id": "427ad0a9-2b5f-40f4-9be9-951e3a2d9ad4",
   "metadata": {},
   "source": [
    "Q61. Create a nested dictionary and access all the element in the inner dictionary."
   ]
  },
  {
   "cell_type": "code",
   "execution_count": 20,
   "id": "fa2047f7-407c-4897-a2b4-4d90200ba0d3",
   "metadata": {},
   "outputs": [
    {
     "name": "stdout",
     "output_type": "stream",
     "text": [
      "John\n",
      "22\n",
      "Male\n",
      "{1: {'name': 'John', 'age': '27', 'sex': 'Male'}, 2: {'name': 'Marie', 'age': '22', 'sex': 'Female'}}\n"
     ]
    }
   ],
   "source": [
    "people = {1: {'name': 'John', 'age': '27', 'sex': 'Male'},\n",
    "          2: {'name': 'Marie', 'age': '22', 'sex': 'Female'}}\n",
    "\n",
    "print(people[1]['name'])\n",
    "print(people[2]['age'])\n",
    "print(people[1]['sex'])\n",
    "#print(people)"
   ]
  },
  {
   "cell_type": "markdown",
   "id": "23e58274-e559-4dbd-9f31-e6a27d2b9671",
   "metadata": {},
   "source": [
    "Q62. What is the use of get() function?\n",
    "\n",
    "The get() method returns the value of the item with the specified key."
   ]
  },
  {
   "cell_type": "code",
   "execution_count": 5,
   "id": "ae161a2b-c451-43ef-8746-955061a02cb6",
   "metadata": {},
   "outputs": [
    {
     "data": {
      "text/plain": [
       "'benz'"
      ]
     },
     "execution_count": 5,
     "metadata": {},
     "output_type": "execute_result"
    }
   ],
   "source": [
    "#Example\n",
    "car = {\"brand\" : 'benz',\"price\":250000,\"model\":2021}\n",
    "car.get('brand')"
   ]
  },
  {
   "cell_type": "markdown",
   "id": "aa549226-bce6-4ca3-bbf8-d0f46082c368",
   "metadata": {},
   "source": [
    "Q63. What is the use of items() function?\n",
    "\n",
    "The items() method returns a view object. The view object contains the key-value pairs of the dictionary, as tuples in a list.\n",
    "\n",
    "The view object will reflect any changes done to the dictionary"
   ]
  },
  {
   "cell_type": "code",
   "execution_count": 7,
   "id": "4e39c254-a8a0-4745-a669-fd61369e2aa8",
   "metadata": {},
   "outputs": [
    {
     "data": {
      "text/plain": [
       "dict_items([('brand', 'benz'), ('price', 250000), ('model', 2021)])"
      ]
     },
     "execution_count": 7,
     "metadata": {},
     "output_type": "execute_result"
    }
   ],
   "source": [
    "#example\n",
    "car = {\"brand\" : 'benz',\"price\":250000,\"model\":2021}\n",
    "\n",
    "car.items()\n"
   ]
  },
  {
   "cell_type": "markdown",
   "id": "036c6e35-cfe5-4788-8a50-11eddd74f9fe",
   "metadata": {},
   "source": [
    "Q64. What is the use of pop() function?\n",
    "\n",
    "The pop() method removes the item at the given index from the list and returns the removed item."
   ]
  },
  {
   "cell_type": "code",
   "execution_count": 12,
   "id": "9ac75a2c-8329-4f64-a882-383d7b950cea",
   "metadata": {},
   "outputs": [
    {
     "name": "stdout",
     "output_type": "stream",
     "text": [
      "200\n",
      "['HI', 'Hello', 'how', 'are', 'you']\n"
     ]
    }
   ],
   "source": [
    "list=['HI','Hello',200,'how','are','you']\n",
    "\n",
    "print(list.pop(2))\n",
    "\n",
    "print(list)\n"
   ]
  },
  {
   "cell_type": "markdown",
   "id": "449619d9-8a1e-4e09-a1d4-34697760c5a5",
   "metadata": {},
   "source": [
    "Q65. What is the use of popitems() function?\n",
    "\n",
    "The Python popitem() method removes and returns the last element (key, value) pair inserted into the dictionary."
   ]
  },
  {
   "cell_type": "code",
   "execution_count": 14,
   "id": "9c91afe7-06da-4884-8d7c-7c86c235483e",
   "metadata": {},
   "outputs": [
    {
     "name": "stdout",
     "output_type": "stream",
     "text": [
      "('model', 2021)\n",
      "{'brand': 'benz', 'price': 250000}\n"
     ]
    }
   ],
   "source": [
    "#Example\n",
    "car = {\"brand\" : 'benz',\"price\":250000,\"model\":2021}\n",
    "\n",
    "x=car.popitem()\n",
    "print(x)\n",
    "print(car)"
   ]
  },
  {
   "cell_type": "markdown",
   "id": "dd23ef9d-eb4e-4eb6-9fa1-66881c137f2a",
   "metadata": {},
   "source": [
    "Q66. What is the use of keys() function?\n",
    "\n",
    "The keys() method extracts the keys of the dictionary and returns the list of keys as a view object."
   ]
  },
  {
   "cell_type": "code",
   "execution_count": 24,
   "id": "c5c48a83-4f9b-4f72-9db0-af1c6a792ccd",
   "metadata": {},
   "outputs": [
    {
     "data": {
      "text/plain": [
       "dict_keys(['brand', 'price', 'model'])"
      ]
     },
     "execution_count": 24,
     "metadata": {},
     "output_type": "execute_result"
    }
   ],
   "source": [
    "#Example\n",
    "\n",
    "car = {\"brand\" : 'benz',\"price\":250000,\"model\":2021}\n",
    "\n",
    "car.keys()"
   ]
  },
  {
   "cell_type": "markdown",
   "id": "9eedbf3d-608d-4585-8e2d-1fe779abbc41",
   "metadata": {},
   "source": [
    "Q67. What is the use of values() function?\n",
    "\n",
    "The values() method extracts the values of the dictionary and returns the list of values as a view object."
   ]
  },
  {
   "cell_type": "code",
   "execution_count": 16,
   "id": "92bcb8dc-d8c7-44d7-be9b-9b77737ff871",
   "metadata": {},
   "outputs": [
    {
     "data": {
      "text/plain": [
       "dict_values(['benz', 250000, 2021])"
      ]
     },
     "execution_count": 16,
     "metadata": {},
     "output_type": "execute_result"
    }
   ],
   "source": [
    "#Example\n",
    "\n",
    "car = {\"brand\" : 'benz',\"price\":250000,\"model\":2021}\n",
    "\n",
    "car.values()"
   ]
  },
  {
   "cell_type": "markdown",
   "id": "286dd4e0-6cd7-42a9-b621-8e6cfdacafb5",
   "metadata": {},
   "source": [
    "Q68. What are loops in Python?\n",
    "\n",
    "Looping means repeating something over and over until a particular condition is satisfied."
   ]
  },
  {
   "cell_type": "markdown",
   "id": "75fa77be-d391-499c-b992-ddc3828dcaa9",
   "metadata": {},
   "source": [
    "Q69. How many type of loop are there in Python?\n",
    "\n",
    "for & while loops"
   ]
  },
  {
   "cell_type": "markdown",
   "id": "2f61026f-c393-4c4d-a0ea-bb4d8893596a",
   "metadata": {},
   "source": [
    "Q70. What is the difference between for and while loops?\n",
    "\n",
    "Both for loop and while loop is used to execute the statements repeatedly while the program runs. The major difference between for loop and the while loop is that for loop is used when the number of iterations is known, whereas execution is done in the while loop until the statement in the program is proved wrong"
   ]
  },
  {
   "cell_type": "markdown",
   "id": "8028d17e-066b-4f51-814b-e7bc95e48cd4",
   "metadata": {},
   "source": [
    "Q71. What is the use of continue statement?\n",
    "\n",
    "The continue statement is used to skip the current iteration of the loop and the control flow of the program goes to the next iteration."
   ]
  },
  {
   "cell_type": "markdown",
   "id": "4716aae5-1396-40f8-8b2b-5b08abd17424",
   "metadata": {},
   "source": [
    "Q72. What is the use of break statement?\n",
    "\n",
    "'Break' in Python is a loop control statement. It is used to control the sequence of the loop. Suppose you want to terminate a loop and skip to the next code after the loop; break will help you do that. A typical scenario of using the Break in Python is when an external condition triggers the loop's termination"
   ]
  },
  {
   "cell_type": "markdown",
   "id": "9f5a8898-287f-4512-9d72-b1d93179b84e",
   "metadata": {},
   "source": [
    "Q73. What is the use of pass statement?\n",
    "\n",
    "The pass statement is used as a placeholder for future code. When the pass statement is executed, nothing happens, but you avoid getting an error when empty code is not allowed. Empty code is not allowed in loops, function definitions, class definitions, or in if statements."
   ]
  },
  {
   "cell_type": "markdown",
   "id": "00bb2246-1c1e-4aae-9760-f080c39308df",
   "metadata": {},
   "source": [
    "Q74. What is the use of range() function?\n",
    "\n",
    "The range() function returns a sequence of numbers, starting from 0 by default, and increments by 1 (by default), and stops before a specified number."
   ]
  },
  {
   "cell_type": "markdown",
   "id": "874a8927-491f-4dd9-af58-3360b582f73f",
   "metadata": {},
   "source": [
    "Q75. How can you loop over a dictionary?\n",
    "\n",
    "You can loop through a dictionary by using a for loop. When looping through a dictionary, the return value are the keys of the dictionary, but there are methods to return the values as well."
   ]
  },
  {
   "cell_type": "code",
   "execution_count": 26,
   "id": "262a4a3c-69d4-4356-b451-49bfe7de55df",
   "metadata": {},
   "outputs": [
    {
     "name": "stdout",
     "output_type": "stream",
     "text": [
      "brand\n",
      "price\n",
      "model\n"
     ]
    }
   ],
   "source": [
    "#Example\n",
    "\n",
    "for i in car:\n",
    "    print(i)"
   ]
  },
  {
   "cell_type": "markdown",
   "id": "15fdfba1-3219-4c4d-a946-4142f9924ee7",
   "metadata": {},
   "source": [
    "Q76. Write a Python program to find the factorial of a given number."
   ]
  },
  {
   "cell_type": "code",
   "execution_count": 8,
   "id": "1a8f81da-9b3d-4060-9746-5edbc93ebb1a",
   "metadata": {},
   "outputs": [
    {
     "name": "stdin",
     "output_type": "stream",
     "text": [
      "please input num to find factorial : 5\n"
     ]
    },
    {
     "name": "stdout",
     "output_type": "stream",
     "text": [
      "Factorial of 5 is 120\n"
     ]
    }
   ],
   "source": [
    "def facto(n):\n",
    "    if (n==1 or n==0):\n",
    "        return 1\n",
    "    else: \n",
    "        return(n*facto(n-1))\n",
    "            \n",
    "ip=int(input(\"please input num to find factorial :\"))\n",
    "               \n",
    "print(\"Factorial of\",ip,\"is\",facto(ip))             \n",
    "               \n"
   ]
  },
  {
   "cell_type": "markdown",
   "id": "4b9a42db-109d-44c9-9881-2c8e5f5ace4c",
   "metadata": {},
   "source": [
    "Q77. Write a Python program to calculate the simple interest. Formula to calculate simple interest is SI = (PRT)/100"
   ]
  },
  {
   "cell_type": "code",
   "execution_count": 18,
   "id": "898294dc-1d7a-4aed-909c-e3b03ca9512e",
   "metadata": {},
   "outputs": [
    {
     "name": "stdout",
     "output_type": "stream",
     "text": [
      "2400.0\n"
     ]
    }
   ],
   "source": [
    "P=100000\n",
    "R=0.2\n",
    "T=12\n",
    "\n",
    "SI=P*T*R/100\n",
    "\n",
    "print(SI)\n"
   ]
  },
  {
   "cell_type": "markdown",
   "id": "f0607ff9-d583-4860-88df-0bf203945e79",
   "metadata": {},
   "source": [
    "Q78. Write a Python program to calculate the compound interest. Formula of compound interest is A = P(1+ R/100)^t."
   ]
  },
  {
   "cell_type": "code",
   "execution_count": 32,
   "id": "31172713-e874-4910-ab1d-b6502da158ef",
   "metadata": {},
   "outputs": [
    {
     "name": "stdin",
     "output_type": "stream",
     "text": [
      "Enter the rate of intrest : 10.25\n",
      "Enter the principle amount taken : 100000\n",
      "Enter the Time taken : 5\n"
     ]
    },
    {
     "name": "stdout",
     "output_type": "stream",
     "text": [
      "Compound intrest for principle 100000.0 is 62889.46267774416\n"
     ]
    }
   ],
   "source": [
    "R=float(input(\"Enter the rate of intrest :\"))\n",
    "P=float(input(\"Enter the principle amount taken :\"))\n",
    "T=int(input(\"Enter the Time taken :\"))\n",
    "\n",
    "A=float(P*(1+R/100)**T)\n",
    "CI=A-P\n",
    "\n",
    "print(\"Compound intrest for principle\",P,'is',CI)\n",
    "\n"
   ]
  },
  {
   "cell_type": "markdown",
   "id": "092b58f4-9053-4df1-b38b-423b3d56aaf7",
   "metadata": {},
   "source": [
    "Q79. Write a Python program to check if a number is prime or not."
   ]
  },
  {
   "cell_type": "code",
   "execution_count": 16,
   "id": "a878ee60-784f-42d1-a7a2-2c1440c2c016",
   "metadata": {},
   "outputs": [
    {
     "name": "stdin",
     "output_type": "stream",
     "text": [
      "Please enter num to check even or not :  23457\n"
     ]
    },
    {
     "name": "stdout",
     "output_type": "stream",
     "text": [
      "Given num 23457 is Odd\n"
     ]
    }
   ],
   "source": [
    "num=int(input(\"Please enter num to check even or not : \"))\n",
    "\n",
    "if num%2==0:\n",
    "    print(\"Given num\",num,\"is Even\")\n",
    "else:\n",
    "    print(\"Given num\",num,\"is Odd\")\n",
    "        "
   ]
  },
  {
   "cell_type": "markdown",
   "id": "f8f67329-753b-47ba-8cb0-76e5f79e8b03",
   "metadata": {},
   "source": [
    "Q80. Write a Python program to check Armstrong Number."
   ]
  },
  {
   "cell_type": "code",
   "execution_count": 2,
   "id": "11ca7fe0-a937-435e-9eaf-e5841a8e6d21",
   "metadata": {},
   "outputs": [
    {
     "name": "stdin",
     "output_type": "stream",
     "text": [
      "Enter a number:  153\n"
     ]
    },
    {
     "name": "stdout",
     "output_type": "stream",
     "text": [
      "153 is an Armstrong number\n"
     ]
    }
   ],
   "source": [
    "# Python program to check if the number is an Armstrong number or not\n",
    "\n",
    "# take input from the user\n",
    "num = int(input(\"Enter a number: \"))\n",
    "\n",
    "# initialize sum\n",
    "sum = 0\n",
    "\n",
    "# find the sum of the cube of each digit\n",
    "temp = num\n",
    "while temp > 0:\n",
    "   digit = temp % 10\n",
    "   sum += digit ** 3\n",
    "   temp //= 10\n",
    "\n",
    "# display the result\n",
    "if num == sum:\n",
    "   print(num,\"is an Armstrong number\")\n",
    "else:\n",
    "   print(num,\"is not an Armstrong number\")\n"
   ]
  },
  {
   "cell_type": "markdown",
   "id": "5da707c9-afd9-4f21-9a01-6123368b25d2",
   "metadata": {},
   "source": [
    "Q81. Write a Python program to find the n-th Fibonacci Number."
   ]
  },
  {
   "cell_type": "code",
   "execution_count": 1,
   "id": "681fc1fd-a14c-4580-b64d-a8185da190e5",
   "metadata": {},
   "outputs": [
    {
     "name": "stdout",
     "output_type": "stream",
     "text": [
      "34\n"
     ]
    }
   ],
   "source": [
    "def Fibonacci(n):\n",
    "    if n<= 0:\n",
    "        print(\"Incorrect input\")\n",
    "    # First Fibonacci number is 0\n",
    "    elif n == 1:\n",
    "        return 0\n",
    "    # Second Fibonacci number is 1\n",
    "    elif n == 2:\n",
    "        return 1\n",
    "    else:\n",
    "        return Fibonacci(n-1)+Fibonacci(n-2)\n",
    " \n",
    "# Driver Program\n",
    " \n",
    "print(Fibonacci(10))\n",
    " \n",
    "# This code is contributed by Saket Modi"
   ]
  },
  {
   "cell_type": "markdown",
   "id": "ddbaedd8-23f9-4f59-ac7a-dcaa89b0928d",
   "metadata": {},
   "source": [
    "Q82. Write a Python program to interchange the first and last element in a list."
   ]
  },
  {
   "cell_type": "code",
   "execution_count": 1,
   "id": "ec68926d-c79a-4d3a-b40e-a7ca91240058",
   "metadata": {},
   "outputs": [
    {
     "name": "stdout",
     "output_type": "stream",
     "text": [
      "[7, 3, 5, 1]\n"
     ]
    }
   ],
   "source": [
    "def swap(l):\n",
    "    l[0],l[-1]=l[-1],l[0]\n",
    "    return l\n",
    "lt=[1,3,5,7]\n",
    "\n",
    "print(swap(lt))\n",
    "\n",
    "\n",
    "\n",
    "    \n"
   ]
  },
  {
   "cell_type": "markdown",
   "id": "f7496f4f-b084-4a97-a4ef-9398f4f9e3dd",
   "metadata": {},
   "source": [
    "Q83. Write a Python program to swap two elements in a list."
   ]
  },
  {
   "cell_type": "code",
   "execution_count": null,
   "id": "8609ab87-8c3c-4fe9-8e0f-66443598faad",
   "metadata": {},
   "outputs": [],
   "source": [
    "def swap(l):\n",
    "    l[0],l[-1]=l[-1],l[0]\n",
    "    return l\n",
    "lt=[1,3,5,7]\n",
    "\n",
    "print(swap(lt))"
   ]
  },
  {
   "cell_type": "markdown",
   "id": "223e5b64-b9ed-4b31-b58a-b2729743ab1b",
   "metadata": {},
   "source": [
    "Q84. Write a Python program to find N largest element from a list."
   ]
  },
  {
   "cell_type": "code",
   "execution_count": 7,
   "id": "b95c7bd2-d080-4aa9-8f8e-08fd93679905",
   "metadata": {},
   "outputs": [
    {
     "name": "stdout",
     "output_type": "stream",
     "text": [
      "[15, 17, 46, 99]\n"
     ]
    }
   ],
   "source": [
    "l = [-34,-67,46,13,14,15,17,99]\n",
    "n = 4\n",
    " \n",
    "l.sort()\n",
    "print(l[-n:])"
   ]
  },
  {
   "cell_type": "markdown",
   "id": "841e74dd-0a16-4db9-b6b5-a381f82615de",
   "metadata": {},
   "source": [
    "Q85. Write a Python program to find cumulative sum of a list."
   ]
  },
  {
   "cell_type": "code",
   "execution_count": 31,
   "id": "911b05f7-f902-4868-b9b7-4fe47a486e2a",
   "metadata": {},
   "outputs": [
    {
     "name": "stdout",
     "output_type": "stream",
     "text": [
      "150\n",
      "[10, 30, 60, 100, 150]\n"
     ]
    }
   ],
   "source": [
    "# list1=[4,10,15,18,20]\n",
    "\n",
    "# x1=list1[0]+list1[1]\n",
    "# x2=x1+list1[2]\n",
    "# x3=x2+list1[3]\n",
    "# x4=x3+list1[4]\n",
    "\n",
    "# x5=list[0],x1,x2,x3,x4\n",
    "# print(x5)\n",
    "\n",
    "\n",
    "list=[10,20,30,40,50]\n",
    "new_list=[]\n",
    "j=0\n",
    "for i in range(0,len(list)):\n",
    "    j+=list[i]\n",
    "    new_list.append(j)\n",
    "    \n",
    "print(new_list)\n",
    "\n"
   ]
  },
  {
   "cell_type": "markdown",
   "id": "2bf2dfe9-cc81-4202-89d0-2fd55689e51d",
   "metadata": {},
   "source": [
    "Q86. Write a Python program to check if a string is palindrome or not."
   ]
  },
  {
   "cell_type": "code",
   "execution_count": 11,
   "id": "c6b59633-5484-4401-80e5-df821fbc3900",
   "metadata": {},
   "outputs": [
    {
     "name": "stdout",
     "output_type": "stream",
     "text": [
      "No\n"
     ]
    }
   ],
   "source": [
    "def palindrome(s):\n",
    "    x=list(s)\n",
    "    y=[]\n",
    "    z=x[::-1]\n",
    "    y.append(z)\n",
    "    if (x==z):\n",
    "        return True\n",
    "    return False\n",
    "\n",
    "s = \"god\"\n",
    "ans = palindrome(s)\n",
    " \n",
    "if ans:\n",
    "    print(\"Yes\")\n",
    " \n",
    "else:\n",
    "    print(\"No\")\n",
    "\n",
    "\n",
    "    \n"
   ]
  },
  {
   "cell_type": "markdown",
   "id": "09348276-eb41-41f1-882c-35cea8297cb7",
   "metadata": {},
   "source": [
    "Q87. Write a Python program to remove i'th element from a string."
   ]
  },
  {
   "cell_type": "code",
   "execution_count": 3,
   "id": "91965e21-1b6c-42d9-bd5e-78a6b13cd962",
   "metadata": {},
   "outputs": [
    {
     "name": "stdout",
     "output_type": "stream",
     "text": [
      "Hihwareyou\n"
     ]
    }
   ],
   "source": [
    "def rm_string(s,i):\n",
    "    a=s[:i]\n",
    "    b=s[i+1:]\n",
    "    \n",
    "    return a+b\n",
    "string=\"Hihowareyou\"\n",
    "i=4\n",
    "print(rm_string(string,i-1))"
   ]
  },
  {
   "cell_type": "markdown",
   "id": "0e6bbae8-ac7e-4f5d-b26c-9767a74edc52",
   "metadata": {},
   "source": [
    "Q88. Write a Python program to check if a substring is present in a given string."
   ]
  },
  {
   "cell_type": "code",
   "execution_count": 8,
   "id": "b361d565-a316-4c0e-87d0-e6da6e521d83",
   "metadata": {},
   "outputs": [
    {
     "name": "stdout",
     "output_type": "stream",
     "text": [
      "It's there\n"
     ]
    }
   ],
   "source": [
    "string=\"Hi how are you\"\n",
    "\n",
    "if \"how\" in string:\n",
    "    print(\"It's there\")\n",
    "else:\n",
    "    print(\"It's not there\")"
   ]
  },
  {
   "cell_type": "markdown",
   "id": "d865d158-1437-484d-8e9a-e564079d1923",
   "metadata": {},
   "source": [
    "Q89. Write a Python program to find words which are greater than given length k."
   ]
  },
  {
   "cell_type": "code",
   "execution_count": 16,
   "id": "e1053950-664f-469b-ae22-dc35bc4494c4",
   "metadata": {},
   "outputs": [
    {
     "name": "stdout",
     "output_type": "stream",
     "text": [
      "['name', 'Abdul', 'best']\n"
     ]
    }
   ],
   "source": [
    "n=\"Hi my name is Abdul all the best\"\n",
    "l=3\n",
    "s=n.split(\" \")\n",
    "l=list(filter(lambda x: (len(x)>l),s))\n",
    "print(l)"
   ]
  },
  {
   "cell_type": "markdown",
   "id": "e25b192e-5ea6-430a-b196-16dbd12afa1d",
   "metadata": {},
   "source": [
    "Q90. Write a Python program to extract unquire dictionary values."
   ]
  },
  {
   "cell_type": "code",
   "execution_count": 19,
   "id": "6de686c8-5917-4ce5-b5a8-92d83d243987",
   "metadata": {},
   "outputs": [
    {
     "name": "stdout",
     "output_type": "stream",
     "text": [
      "This is the given Dict: {'a': [1, 2, 3, 3, 4], 'b': [3, 4, 4, 5, 1], 'c': [6, 2, 1, 6, 4]}\n",
      "Unique values in list are [1, 2, 3, 4, 5, 6]\n"
     ]
    }
   ],
   "source": [
    "dict={'a':[1,2,3,3,4],'b':[3,4,4,5,1],'c':[6,2,1,6,4]}\n",
    "\n",
    "print('This is the given Dict:',dict)\n",
    "res=list(sorted({a for b in dict.values() for a in b}))\n",
    "print('Unique values in list are',res)"
   ]
  },
  {
   "cell_type": "markdown",
   "id": "147c94bf-aeb5-441d-b29f-dca32e04efea",
   "metadata": {},
   "source": [
    "Q91. Write a Python program to merge two dictionary."
   ]
  },
  {
   "cell_type": "code",
   "execution_count": 3,
   "id": "8fe67335-8f50-4eed-a2bc-30b26f83ea90",
   "metadata": {},
   "outputs": [
    {
     "name": "stdout",
     "output_type": "stream",
     "text": [
      "{'a': [1, 2, 3, 3, 4], 'b': [3, 4, 4, 5, 1], 'c': [1, 2, 3, 3, 4], 'd': [3, 4, 4, 1]}\n"
     ]
    }
   ],
   "source": [
    "dict1={'a':[1,2,3,3,4],'b':[3,4,4,5,1]}\n",
    "dict2={'c':[1,2,3,3,4],'d':[3,4,4,1]}\n",
    "\n",
    "dict1.update(dict2)\n",
    "\n",
    "print(dict1)"
   ]
  },
  {
   "cell_type": "markdown",
   "id": "f2c75951-fd9d-47e8-a57e-b61381f0c0c9",
   "metadata": {},
   "source": [
    "Q92. Write a Python program to convert a list of tuples into dictionary.\n",
    "\n",
    "Input : [('Sachin', 10), ('MSD', 7), ('Kohli', 18), ('Rohit', 45)]\n",
    "Output : {'Sachin': 10, 'MSD': 7, 'Kohli': 18, 'Rohit': 45}"
   ]
  },
  {
   "cell_type": "code",
   "execution_count": 1,
   "id": "224c0a0f-3e6c-4d94-ac50-e8726590de3d",
   "metadata": {},
   "outputs": [
    {
     "name": "stdout",
     "output_type": "stream",
     "text": [
      "{'Sachin': 10, 'MSD': 7, 'Kohli': 18, 'Rohit': 45}\n"
     ]
    }
   ],
   "source": [
    "Input = [('Sachin', 10), ('MSD', 7), ('Kohli', 18), ('Rohit', 45)]\n",
    "\n",
    "d1=dict((x,y) for x,y in Input)\n",
    "print(d1)\n"
   ]
  },
  {
   "cell_type": "markdown",
   "id": "e0fcbb40-7ae6-4d37-98f9-40a34789725f",
   "metadata": {},
   "source": [
    "Q93. Write a Python program to create a list of tuples from given list having number and its cube in each tuple.\n",
    "\n",
    "Input: list = [9, 5, 6]\n",
    "Output: [(9, 729), (5, 125), (6, 216)]"
   ]
  },
  {
   "cell_type": "code",
   "execution_count": 12,
   "id": "640a07d2-b821-4c1a-8d8e-34b54d7ce783",
   "metadata": {},
   "outputs": [
    {
     "name": "stdout",
     "output_type": "stream",
     "text": [
      "[(9, 729), (5, 125), (6, 216)]\n"
     ]
    }
   ],
   "source": [
    "list=[9,5,6]\n",
    "res=[(num,num**3) for num in list]\n",
    "print(res)"
   ]
  },
  {
   "cell_type": "markdown",
   "id": "e6f1321e-b858-485c-82cc-0c934308c1e8",
   "metadata": {},
   "source": [
    "Q94. Write a Python program to get all combinations of 2 tuples.\n",
    "\n",
    "Input : test_tuple1 = (7, 2), test_tuple2 = (7, 8)\n",
    "Output : [(7, 7), (7, 8), (2, 7), (2, 8), (7, 7), (7, 2), (8, 7), (8, 2)]"
   ]
  },
  {
   "cell_type": "code",
   "execution_count": 18,
   "id": "8003bccc-59fc-4ef0-b616-658f0fd3bdf5",
   "metadata": {},
   "outputs": [
    {
     "name": "stdout",
     "output_type": "stream",
     "text": [
      "[(7, 7), (7, 8), (2, 7), (2, 8), (7, 7), (7, 2), (8, 7), (8, 2)]\n"
     ]
    }
   ],
   "source": [
    "test_tuple1 = (7, 2)\n",
    "test_tuple2 = (7, 8)\n",
    "\n",
    "res=[(i,j) for i in test_tuple1 for j in test_tuple2]\n",
    "res=res +[(i,j) for i in test_tuple2 for j in test_tuple1]\n",
    "\n",
    "print(res)"
   ]
  },
  {
   "cell_type": "markdown",
   "id": "4139fd3d-0c56-43ba-9ead-8f47e8bee4eb",
   "metadata": {},
   "source": [
    "Q95. Write a Python program to sort a list of tuples by second item.\n",
    "\n",
    "Input : [('for', 24), ('Geeks', 8), ('Geeks', 30)] \n",
    "Output : [('Geeks', 8), ('for', 24), ('Geeks', 30)]"
   ]
  },
  {
   "cell_type": "code",
   "execution_count": 21,
   "id": "e95dd435-f138-4597-9273-62856e90067c",
   "metadata": {},
   "outputs": [
    {
     "name": "stdout",
     "output_type": "stream",
     "text": [
      "[('Geeks', 8), ('for', 24), ('Geeks', 30)]\n"
     ]
    }
   ],
   "source": [
    "lt=[('for', 24), ('Geeks', 8), ('Geeks', 30)]\n",
    "lt.sort(key = lambda x: x[1])\n",
    "print(lt)\n",
    "\n"
   ]
  },
  {
   "cell_type": "markdown",
   "id": "a18b92a8-4c66-463b-9cbe-9e58404a9a6f",
   "metadata": {},
   "source": [
    "Q96. Write a python program to print below pattern.\n",
    "\n",
    "* \n",
    "* * \n",
    "* * * \n",
    "* * * * \n",
    "* * * * * "
   ]
  },
  {
   "cell_type": "code",
   "execution_count": 26,
   "id": "3d629053-f1d6-4c2d-bd23-24f33bfc7382",
   "metadata": {},
   "outputs": [
    {
     "name": "stdout",
     "output_type": "stream",
     "text": [
      "* \n",
      "* * \n",
      "* * * \n",
      "* * * * \n",
      "* * * * * \n"
     ]
    }
   ],
   "source": [
    "# number of rows\n",
    "rows = 5\n",
    "for i in range(0, rows):\n",
    "    # nested loop for each column\n",
    "    for j in range(0, i+1 ):\n",
    "        # print star\n",
    "        print(\"*\", end=' ')\n",
    "    # new line after each row\n",
    "    print(\"\\r\")\n"
   ]
  },
  {
   "cell_type": "markdown",
   "id": "e10d64b2-e6f9-46fb-acad-c09629f63796",
   "metadata": {},
   "source": [
    "Q97. Write a python program to print below pattern.\n",
    "\n",
    "    *\n",
    "   **\n",
    "  ***\n",
    " ****\n",
    "*****"
   ]
  },
  {
   "cell_type": "code",
   "execution_count": 8,
   "id": "bed40234-549e-4cf8-9986-e7439cefa99e",
   "metadata": {},
   "outputs": [
    {
     "name": "stdout",
     "output_type": "stream",
     "text": [
      "     \n",
      "    *\n",
      "   **\n",
      "  ***\n",
      " ****\n",
      "*****\n"
     ]
    }
   ],
   "source": [
    "n=5\n",
    "i=0\n",
    "while(i<=n):\n",
    "  print(\" \" * (n - i) +\"*\" * i)\n",
    "  i+=1\n"
   ]
  },
  {
   "cell_type": "markdown",
   "id": "1eaf85d9-a975-4e3b-af9a-d46561c95fb3",
   "metadata": {},
   "source": [
    "Q98. Write a python program to print below pattern.\n",
    "\n",
    "    * \n",
    "   * * \n",
    "  * * * \n",
    " * * * * \n",
    "* * * * * "
   ]
  },
  {
   "cell_type": "code",
   "execution_count": 7,
   "id": "d97cb2f3-6635-4e36-8d63-1e0587f15996",
   "metadata": {},
   "outputs": [
    {
     "name": "stdout",
     "output_type": "stream",
     "text": [
      "    * \n",
      "   * * \n",
      "  * * * \n",
      " * * * * \n",
      "* * * * * \n"
     ]
    }
   ],
   "source": [
    "###Took from internet\n",
    "def triangle(n):\n",
    "     \n",
    "    # number of spaces\n",
    "    k = n - 1\n",
    " \n",
    "    # outer loop to handle number of rows\n",
    "    for i in range(0, n):\n",
    "     \n",
    "        # inner loop to handle number spaces\n",
    "        # values changing acc. to requirement\n",
    "        for j in range(0, k):\n",
    "            print(end=\" \")\n",
    "     \n",
    "        # decrementing k after each loop\n",
    "        k = k - 1\n",
    "     \n",
    "        # inner loop to handle number of columns\n",
    "        # values changing acc. to outer loop\n",
    "        for j in range(0, i+1):\n",
    "         \n",
    "            # printing stars\n",
    "            print(\"* \", end=\"\")\n",
    "     \n",
    "        # ending line after each row\n",
    "        print(\"\\r\")\n",
    " \n",
    "# Driver Code\n",
    "n = 5\n",
    "triangle(n)"
   ]
  },
  {
   "cell_type": "markdown",
   "id": "47d1b27a-1de3-43e1-9050-dd49bb5d751d",
   "metadata": {},
   "source": [
    "Q99. Write a python program to print below pattern.\n",
    "\n",
    "1 \n",
    "1 2 \n",
    "1 2 3 \n",
    "1 2 3 4 \n",
    "1 2 3 4 5"
   ]
  },
  {
   "cell_type": "code",
   "execution_count": 10,
   "id": "9c03caa8-a4d5-4da1-b9f4-c325dca0111e",
   "metadata": {},
   "outputs": [
    {
     "name": "stdout",
     "output_type": "stream",
     "text": [
      "1 \n",
      "1 2 \n",
      "1 2 3 \n",
      "1 2 3 4 \n",
      "1 2 3 4 5 \n"
     ]
    }
   ],
   "source": [
    "##Took from internet\n",
    "\n",
    "def numpat(n):\n",
    "     \n",
    "    # initialising starting number\n",
    "    num = 1\n",
    " \n",
    "    # outer loop to handle number of rows\n",
    "    for i in range(0, n):\n",
    "     \n",
    "        # re assigning num\n",
    "        num = 1\n",
    "     \n",
    "        # inner loop to handle number of columns\n",
    "            # values changing acc. to outer loop\n",
    "        for j in range(0, i+1):\n",
    "         \n",
    "                # printing number\n",
    "            print(num, end=\" \")\n",
    "         \n",
    "            # incrementing number at each column\n",
    "            num = num + 1\n",
    "     \n",
    "        # ending line after each row\n",
    "        print(\"\\r\")\n",
    " \n",
    "# Driver code\n",
    "n = 5\n",
    "numpat(n)"
   ]
  },
  {
   "cell_type": "markdown",
   "id": "e53edafd-36a1-4ab0-b4cd-54ab6d24cf6a",
   "metadata": {},
   "source": [
    "Q100. Write a python program to print below pattern.\n",
    "\n",
    "A \n",
    "B B \n",
    "C C C \n",
    "D D D D \n",
    "E E E E E "
   ]
  },
  {
   "cell_type": "code",
   "execution_count": 12,
   "id": "758ab90e-ab17-4e0b-893f-d829bd3e14b1",
   "metadata": {},
   "outputs": [
    {
     "name": "stdout",
     "output_type": "stream",
     "text": [
      "A \n",
      "B B \n",
      "C C C \n",
      "D D D D \n",
      "E E E E E \n"
     ]
    }
   ],
   "source": [
    "###Took from internet\n",
    "\n",
    "# Python 3.x code to demonstrate star pattern\n",
    " \n",
    "# Function to demonstrate printing pattern of alphabets\n",
    "def alphapat(n):\n",
    "     \n",
    "    # initializing value corresponding to 'A'\n",
    "    # ASCII value\n",
    "    num = 65\n",
    " \n",
    "    # outer loop to handle number of rows\n",
    "    # 5 in this case\n",
    "    for i in range(0, n):\n",
    "     \n",
    "        # inner loop to handle number of columns\n",
    "        # values changing acc. to outer loop\n",
    "        for j in range(0, i+1):\n",
    "         \n",
    "            # explicitly converting to char\n",
    "            ch = chr(num)\n",
    "         \n",
    "            # printing char value\n",
    "            print(ch, end=\" \")\n",
    "     \n",
    "        # incrementing number\n",
    "        num = num + 1\n",
    "     \n",
    "        # ending line after each row\n",
    "        print(\"\\r\")\n",
    " \n",
    "# Driver Code\n",
    "n = 5\n",
    "alphapat(n)"
   ]
  }
 ],
 "metadata": {
  "kernelspec": {
   "display_name": "Python 3 (ipykernel)",
   "language": "python",
   "name": "python3"
  },
  "language_info": {
   "codemirror_mode": {
    "name": "ipython",
    "version": 3
   },
   "file_extension": ".py",
   "mimetype": "text/x-python",
   "name": "python",
   "nbconvert_exporter": "python",
   "pygments_lexer": "ipython3",
   "version": "3.10.6"
  }
 },
 "nbformat": 4,
 "nbformat_minor": 5
}
