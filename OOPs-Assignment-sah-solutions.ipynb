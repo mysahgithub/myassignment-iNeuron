{
 "cells": [
  {
   "cell_type": "markdown",
   "id": "1a122381-af5b-442a-9f4d-a8d5a3fbfc9c",
   "metadata": {},
   "source": [
    "#Q1. What is the purpose of Python's OOP?"
   ]
  },
  {
   "cell_type": "markdown",
   "id": "227f6f0b-bb63-412a-9164-ba23fae6d8e0",
   "metadata": {},
   "source": [
    "Sol.\n",
    ">Modularity for easier troubleshooting. When working with object-oriented programming languages, you know exactly where to look when something goes wrong. ...\n",
    ">Reuse of code through inheritance. ...\n",
    ">Flexibility through polymorphism. ...\n",
    ">Effective problem solving."
   ]
  },
  {
   "cell_type": "markdown",
   "id": "83f87a50-637e-44cb-a13e-7a26530d6105",
   "metadata": {},
   "source": [
    "Q2. Where does an inheritance search look for an attribute?"
   ]
  },
  {
   "cell_type": "markdown",
   "id": "63753548-ace3-40a6-a3e8-861bb4183d8d",
   "metadata": {},
   "source": [
    "Sol: first in the instance object, then in the class the instance was created from, then in all higher superclasses, progressing from left to right (by default). The search stops at the first place the attribute is found."
   ]
  },
  {
   "cell_type": "raw",
   "id": "be98e5f7-c023-4399-a47f-ecbc944415d7",
   "metadata": {},
   "source": [
    "Q3. How do you distinguish between a class object and an instance object?"
   ]
  },
  {
   "cell_type": "raw",
   "id": "1f0b29a1-773b-4180-80d1-315fcc8ac234",
   "metadata": {},
   "source": [
    "Sol: The class = the blue print. The Object is an actual thing that is built based on the 'blue print' (like the house). An instance is a virtual copy (but not a real copy) of the object."
   ]
  },
  {
   "cell_type": "raw",
   "id": "a0fb7b0f-f70e-441f-a7f2-a9f08854e6e7",
   "metadata": {},
   "source": [
    "Q4. What makes the first argument in a class’s method function special?"
   ]
  },
  {
   "cell_type": "raw",
   "id": "c68b17cb-b021-44b2-a388-14f08ecabd19",
   "metadata": {},
   "source": [
    "sol: the first parameter of a function in class must be the object itself. Writing this parameter as self is merely a convention. It is not a keyword and has no special meaning in Python."
   ]
  },
  {
   "cell_type": "raw",
   "id": "4ea619a0-cfb0-40a9-bcf7-5206c3f42df9",
   "metadata": {},
   "source": [
    "Q5. What is the purpose of the init method?"
   ]
  },
  {
   "cell_type": "markdown",
   "id": "029d1845-ba10-4f85-b837-f1ca1c23a60e",
   "metadata": {},
   "source": [
    "Sol: It's known as the constructor in OOPs, it is called when an object is created from a class and allows to initalize attributs of the class"
   ]
  },
  {
   "cell_type": "raw",
   "id": "00a42f74-8973-4d9b-ad77-168a65e7e57e",
   "metadata": {},
   "source": [
    "Q6. What is the process for creating a class instance?"
   ]
  },
  {
   "cell_type": "markdown",
   "id": "ccdefffb-a7ba-40b2-8e0f-d0561d01eddc",
   "metadata": {},
   "source": [
    "Sol: The new operator requires a single, postfix argument: a call to a constructor. The name of the constructor provides the name of the class to instantiate. The constructor initializes the new object. The new operator returns a reference to the object it created."
   ]
  },
  {
   "cell_type": "markdown",
   "id": "d2dc884c-ec30-438b-b19a-5bcb93e1d43f",
   "metadata": {},
   "source": [
    "Q7. What is the process for creating a class?"
   ]
  },
  {
   "cell_type": "markdown",
   "id": "ada1958d-228e-4b66-acf9-3a3c8aab20c0",
   "metadata": {},
   "source": [
    "Sol: The first step in creating your own class is identifying what state you want to capture to describe objects"
   ]
  },
  {
   "cell_type": "markdown",
   "id": "de889d27-5b35-402d-80e1-dd7205a33968",
   "metadata": {},
   "source": [
    "Q8. How would you define the superclasses of a class?"
   ]
  },
  {
   "cell_type": "markdown",
   "id": "55822513-0571-4991-bef9-2bc80b3db909",
   "metadata": {},
   "source": [
    "The class from which the subclass is derived is called a superclass (also a base class or a parent class)."
   ]
  },
  {
   "cell_type": "markdown",
   "id": "57e8cb8a-1beb-4ce4-b702-b4d59b65e4a0",
   "metadata": {},
   "source": [
    "Q9. What is the relationship between classes and modules?"
   ]
  },
  {
   "cell_type": "markdown",
   "id": "7af3a718-fd4b-4c78-9d49-423cbcf4d128",
   "metadata": {},
   "source": [
    "SOl: Modules are collections of methods and constants. They cannot generate instances. Classes may generate instances (objects), and have per-instance state (instance variables)."
   ]
  },
  {
   "cell_type": "markdown",
   "id": "05cbd5f6-f64d-4360-8d75-67479299fb4a",
   "metadata": {},
   "source": [
    "Q10. How do you make instances and classes?"
   ]
  },
  {
   "cell_type": "markdown",
   "id": "0a09529c-80e0-4699-9cbf-e802e8aeb708",
   "metadata": {},
   "source": [
    "Sol: To create instances of a class, you call the class using class name and pass in whatever arguments its __init__ method accepts."
   ]
  },
  {
   "cell_type": "markdown",
   "id": "3cfab52c-ad5b-4c01-b32a-1c4128630466",
   "metadata": {},
   "source": [
    "Q11. Where and how should be class attributes created?"
   ]
  },
  {
   "cell_type": "markdown",
   "id": "4e031add-20d7-438d-83f9-d85faeadbbf6",
   "metadata": {},
   "source": [
    "Sol: Class attributes are the variables defined directly in the class that are shared by all objects of the class."
   ]
  },
  {
   "cell_type": "markdown",
   "id": "1ff32b25-069e-48cf-9e36-edfbc4e800f6",
   "metadata": {},
   "source": [
    "Q12. Where and how are instance attributes created?"
   ]
  },
  {
   "cell_type": "markdown",
   "id": "a992b10b-43ed-4d75-aba2-2a7af3b0161c",
   "metadata": {},
   "source": [
    "Sol: Instance attributes are attributes or properties attached to an instance of a class. Instance attributes are defined in the constructor. Defined directly inside a class."
   ]
  },
  {
   "cell_type": "markdown",
   "id": "5a52037c-acce-40c1-9e5e-cc927ffe45e7",
   "metadata": {},
   "source": [
    "Q13. What does the term \"self\" in a Python class mean?"
   ]
  },
  {
   "cell_type": "markdown",
   "id": "98c4e725-e3c8-4906-90b0-9519d2893ef6",
   "metadata": {},
   "source": [
    "Sol: The word self is explicitly included as a first parameter of methods. It represents the instance of the class. By using the “self” we can access the attributes and methods of the class in python. It binds the attributes with the given arguments."
   ]
  },
  {
   "cell_type": "markdown",
   "id": "49114c7b-df79-4192-8c29-d489fba934cb",
   "metadata": {},
   "source": [
    "Q14. How does a Python class handle operator overloading?"
   ]
  },
  {
   "cell_type": "markdown",
   "id": "4087ccaa-bad3-48ea-b8e8-fa59f3fa9cf3",
   "metadata": {},
   "source": [
    "Sol: The operator overloading in Python means provide extended meaning beyond their predefined operational meaning. Such as, we use the \"+\" operator for adding two integers as well as joining two strings or merging two lists. We can achieve this as the \"+\" operator is overloaded by the \"int\" class and \"str\" class."
   ]
  },
  {
   "cell_type": "markdown",
   "id": "f1d89a98-cb7a-40f8-95fe-93c27b629c58",
   "metadata": {},
   "source": [
    "Q15. When do you consider allowing operator overloading of your classes?"
   ]
  },
  {
   "cell_type": "markdown",
   "id": "74fc1afc-78ef-4a6d-8428-f2f6e8bbae77",
   "metadata": {},
   "source": [
    "Q16. What is the most popular form of operator overloading?"
   ]
  },
  {
   "cell_type": "markdown",
   "id": "41e9b172-7445-48a8-8ddb-40e9f30a64c2",
   "metadata": {},
   "source": [
    "Sol: Addition(+) operator"
   ]
  },
  {
   "cell_type": "markdown",
   "id": "a3e0f7ef-57aa-4eda-b63c-ea1460d26928",
   "metadata": {},
   "source": [
    "Q17. What are the two most important concepts to grasp in order to comprehend Python OOP code?"
   ]
  },
  {
   "cell_type": "markdown",
   "id": "a7395611-4908-4c55-851b-c5e836e96e7e",
   "metadata": {},
   "source": [
    "Sol: inheritance and polymorphism"
   ]
  },
  {
   "cell_type": "markdown",
   "id": "542269f6-07fa-4ed1-b821-c5e7ba022359",
   "metadata": {},
   "source": [
    "Q18. Describe three applications for exception processing "
   ]
  },
  {
   "cell_type": "markdown",
   "id": "f9bc6b80-411d-4955-b716-821071ecae34",
   "metadata": {},
   "source": [
    "Sol: syntax errors, exceptions and logical errors"
   ]
  },
  {
   "cell_type": "markdown",
   "id": "cdcb9b13-2a0b-4a8e-9797-acf40c841257",
   "metadata": {},
   "source": [
    "Q19. What happens if you don't do something extra to treat an exception?"
   ]
  },
  {
   "cell_type": "markdown",
   "id": "9cbe032f-6c25-4214-b74b-d02fbe4c14f6",
   "metadata": {},
   "source": [
    "SOl: Code will be stopped abruptly where ever the exception occurs and won't go further"
   ]
  },
  {
   "cell_type": "markdown",
   "id": "97950e8d-6331-46d1-8279-12d398f48aad",
   "metadata": {},
   "source": [
    "Q20. What are your options for recovering from an exception in your script?"
   ]
  },
  {
   "cell_type": "markdown",
   "id": "f88c34a6-ded7-4d46-92de-e1a2f49ec44f",
   "metadata": {},
   "source": [
    "Sol: writing try and except block, logging to find if any error instead of using print"
   ]
  },
  {
   "cell_type": "markdown",
   "id": "d2714ff3-9a34-46a3-9a71-7dca5ace1b75",
   "metadata": {},
   "source": [
    "Q21. Describe two methods for triggering exceptions in your script."
   ]
  },
  {
   "cell_type": "markdown",
   "id": "22d9aeef-3b17-4c5a-b24f-426e60addc61",
   "metadata": {},
   "source": [
    "Sol: Try and Raise.\n",
    "Try – This method catches the exceptions raised by the program. \n",
    "Raise – Triggers an exception manually using custom exceptions"
   ]
  },
  {
   "cell_type": "markdown",
   "id": "93c15b31-6173-44b0-963d-feb8b1e2cf6e",
   "metadata": {},
   "source": [
    "Q22. Identify two methods for specifying actions to be executed at termination time, regardless of\n",
    "whether or not an exception exists."
   ]
  },
  {
   "cell_type": "markdown",
   "id": "56ba6228-3825-414b-b9ff-3abd05a4617b",
   "metadata": {},
   "source": [
    "Sol: Finally block and raise"
   ]
  },
  {
   "cell_type": "markdown",
   "id": "f5b2a8af-0008-467d-ba9b-d3ee069ad7dd",
   "metadata": {},
   "source": [
    "Q23. What is the purpose of the try statement?"
   ]
  },
  {
   "cell_type": "markdown",
   "id": "43856088-5fb7-4891-903f-d1cb4fd59ab9",
   "metadata": {},
   "source": [
    "Sol: To check the block/chunk of code for errors"
   ]
  },
  {
   "cell_type": "markdown",
   "id": "343561fc-3c90-4286-b595-0a409a7df555",
   "metadata": {},
   "source": [
    "Q24. What are the two most popular try statement variations?"
   ]
  },
  {
   "cell_type": "markdown",
   "id": "e1c69a68-8a54-4add-833b-0cdf22fcd8f9",
   "metadata": {},
   "source": [
    "Sol: except,else and finally"
   ]
  },
  {
   "cell_type": "markdown",
   "id": "62824ca9-5da0-4301-9fea-0f54b59ed7f6",
   "metadata": {},
   "source": [
    "Q25. What is the purpose of the raise statement?"
   ]
  },
  {
   "cell_type": "markdown",
   "id": "267d56d3-e1bc-4eb9-a602-3a847b4b40a2",
   "metadata": {},
   "source": [
    "Sol: Triggers an exception manually using custom exceptions"
   ]
  },
  {
   "cell_type": "markdown",
   "id": "39e6cfb2-d994-40f9-a602-2f15fa378a66",
   "metadata": {},
   "source": [
    "Q26. What does the assert statement do, and what other statement is it like?"
   ]
  },
  {
   "cell_type": "markdown",
   "id": "d5109705-a580-4c6c-9930-508fd75c48ee",
   "metadata": {},
   "source": [
    "Sol: The assert keyword is used when debugging code. The assert keyword lets you test if a condition in your code returns True, if not, the program will raise an AssertionError. You can write a message to be written if the code returns False"
   ]
  },
  {
   "cell_type": "markdown",
   "id": "39738d6b-a46a-4d7d-bbf1-49e82d6028b4",
   "metadata": {},
   "source": [
    "Q27. What is the purpose of the with/as argument, and what other statement is it like?"
   ]
  },
  {
   "cell_type": "markdown",
   "id": "18178b24-e894-45a5-8a36-f49ece0ca090",
   "metadata": {},
   "source": [
    "Sol: with statement replaces a try-catch block with a concise shorthand. More importantly, it ensures closing resources right after processing them. "
   ]
  },
  {
   "cell_type": "markdown",
   "id": "f24d6c8c-1991-48cc-8e95-02dbab573ed0",
   "metadata": {},
   "source": [
    "Q28. What are *args, **kwargs?"
   ]
  },
  {
   "cell_type": "markdown",
   "id": "61d63680-1aa5-4e73-932e-b24fce146460",
   "metadata": {},
   "source": [
    "Sol: \n",
    ">>The special syntax *args in function definitions in python is used to pass a variable number of arguments to a function. It is used to pass a non-key worded, variable-length argument list. \n",
    ">>The special syntax **kwargs in function definitions in python is used to pass a keyworded, variable-length argument list. We use the name kwargs with the double star. The reason is that the double star allows us to pass through keyword arguments (and any number of them)."
   ]
  },
  {
   "cell_type": "markdown",
   "id": "518fab7d-ccce-46e0-84e9-838355026ce1",
   "metadata": {},
   "source": [
    "Q29. How can I pass optional or keyword parameters from one function to another?"
   ]
  },
  {
   "cell_type": "markdown",
   "id": "a3c71278-c429-4e70-9c28-c5a52055d1d5",
   "metadata": {},
   "source": [
    "Sol: By using keyword arguments"
   ]
  },
  {
   "cell_type": "markdown",
   "id": "f8186c69-c3b9-4c57-8af8-67c2535a335c",
   "metadata": {},
   "source": [
    "Q30. What are Lambda Functions?"
   ]
  },
  {
   "cell_type": "markdown",
   "id": "c0adc92d-cba2-4206-8302-7097c7cc11e4",
   "metadata": {},
   "source": [
    "Sol: A lambda function is a small anonymous function. A lambda function can take any number of arguments, but can only have one expression. "
   ]
  },
  {
   "cell_type": "markdown",
   "id": "33ab73c4-0733-4477-886c-faafdaa6a19b",
   "metadata": {},
   "source": [
    "Q31. Explain Inheritance in Python with an example?"
   ]
  },
  {
   "cell_type": "markdown",
   "id": "349ccf57-9ae9-4ac4-baf5-35c851a3aed5",
   "metadata": {},
   "source": [
    "Sol: Inheritance relationship defines the classes that inherit from other classes as derived, subclass, or sub-type classes. Base class remains to be the source from which a subclass inherits. For example, you have a Base class of “Animal,” and a “Tiger” is a Derived class. The inheritance will be Tiger is an Animal."
   ]
  },
  {
   "cell_type": "markdown",
   "id": "dbb2631c-12f8-43f5-9ca5-e96d89bc900d",
   "metadata": {},
   "source": [
    "Q32. Suppose class C inherits from classes A and B as class C(A,B).Classes A and B both have their own versions of method func(). If we call func() from an object of class C, which version gets invoked?"
   ]
  },
  {
   "cell_type": "markdown",
   "id": "6a707852-8356-46a8-9df7-354900235164",
   "metadata": {},
   "source": [
    "Sol: "
   ]
  },
  {
   "cell_type": "markdown",
   "id": "3e8589c0-ff15-4392-a726-aeb98de204ba",
   "metadata": {},
   "source": [
    "Q33. Which methods/functions do we use to determine the type of instance and inheritance?"
   ]
  },
  {
   "cell_type": "markdown",
   "id": "8181bfee-f049-4c0b-a6ae-7d74b8f5aff8",
   "metadata": {},
   "source": [
    "Sol:\n",
    ">>Use isinstance() to check an instance's type: isinstance(obj, int) will be True only if obj.__class__ is int or some class derived from int .\n",
    ">>Use issubclass() to check class inheritance: issubclass(bool, int) is True since bool is a subclass of int .\n"
   ]
  },
  {
   "cell_type": "markdown",
   "id": "9b86bdd4-2908-4c88-b203-63110acc06e8",
   "metadata": {},
   "source": [
    "Q34.Explain the use of the 'nonlocal' keyword in Python."
   ]
  },
  {
   "cell_type": "markdown",
   "id": "0601a5c4-9e6c-48b4-bb89-c90409d916d9",
   "metadata": {},
   "source": [
    "Sol: The nonlocal keyword is used to work with variables inside nested functions, where the variable should not belong to the inner function."
   ]
  },
  {
   "cell_type": "markdown",
   "id": "8482524b-c2d7-426a-950d-527e420dc634",
   "metadata": {},
   "source": [
    "Q35. What is the global keyword?"
   ]
  },
  {
   "cell_type": "markdown",
   "id": "2e83f203-b430-43c0-a369-2b70875cdcd6",
   "metadata": {},
   "source": [
    "Sol: the global keyword allows us to modify the variable outside of the current scope.\n",
    "It is used to create a global variable and make changes to the variable in a local context."
   ]
  }
 ],
 "metadata": {
  "kernelspec": {
   "display_name": "Python 3 (ipykernel)",
   "language": "python",
   "name": "python3"
  },
  "language_info": {
   "codemirror_mode": {
    "name": "ipython",
    "version": 3
   },
   "file_extension": ".py",
   "mimetype": "text/x-python",
   "name": "python",
   "nbconvert_exporter": "python",
   "pygments_lexer": "ipython3",
   "version": "3.10.6"
  }
 },
 "nbformat": 4,
 "nbformat_minor": 5
}
